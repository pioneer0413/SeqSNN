{
 "cells": [
  {
   "cell_type": "code",
   "execution_count": 18,
   "id": "ba897efa",
   "metadata": {},
   "outputs": [
    {
     "data": {
      "text/plain": [
       "'\\nModule: analysis_result.ipynb\\nAuthor: Kang Hyun Woo\\nLast Modified: 2025-09-08 09:29\\nDescription: 추산된 실험 결과를 분석하는 노트북 스크립트\\n'"
      ]
     },
     "execution_count": 18,
     "metadata": {},
     "output_type": "execute_result"
    }
   ],
   "source": [
    "'''\n",
    "Module: analysis_result.ipynb\n",
    "Author: Kang Hyun Woo\n",
    "Last Modified: 2025-09-08 09:29\n",
    "Description: 추산된 실험 결과를 분석하는 노트북 스크립트\n",
    "'''"
   ]
  },
  {
   "cell_type": "code",
   "execution_count": 19,
   "id": "cfb2d6b2",
   "metadata": {},
   "outputs": [],
   "source": [
    "import os\n",
    "import pandas as pd"
   ]
  },
  {
   "cell_type": "code",
   "execution_count": 20,
   "id": "c9f1f93c",
   "metadata": {},
   "outputs": [],
   "source": [
    "pd.set_option('display.width', 1000)\n",
    "\n",
    "# 최대 출력 행 수 설정 (None이면 모든 행 출력)\n",
    "pd.set_option('display.max_rows', None)\n",
    "\n",
    "# 최대 출력 열 수 설정 (None이면 모든 열 출력)\n",
    "pd.set_option('display.max_columns', None)\n",
    "\n",
    "# 열 내용의 최대 너비 설정\n",
    "pd.set_option('display.max_colwidth', None)"
   ]
  },
  {
   "cell_type": "code",
   "execution_count": 21,
   "id": "26f19b92",
   "metadata": {},
   "outputs": [],
   "source": [
    "target_path = 'aggregated_results.csv'\n",
    "df = pd.read_csv(target_path)"
   ]
  },
  {
   "cell_type": "code",
   "execution_count": 22,
   "id": "a5962c7b",
   "metadata": {},
   "outputs": [
    {
     "name": "stdout",
     "output_type": "stream",
     "text": [
      "\n",
      "중복 제거 전 행 수: 4141\n",
      "중복 제거 후 행 수: 3904\n"
     ]
    }
   ],
   "source": [
    "# 중복 확인\n",
    "# df에 architecture, dataset, encoder, horizon, n_cluster, d_model, beta, seed, postfix가 전부 같은 행이 있는지 확인\n",
    "\n",
    "# 중복 확인할 컬럼들 정의\n",
    "duplicate_columns = ['architecture', 'dataset', 'encoder', 'horizon', \n",
    "                    'n_cluster', 'd_model', 'beta', 'seed', 'postfix']\n",
    "\n",
    "duplicate_groups = df.groupby(duplicate_columns).filter(lambda x: len(x) > 1)\n",
    "#print(\"\\n중복된 그룹들:\")\n",
    "#print(duplicate_groups.sort_values(duplicate_columns))\n",
    "\n",
    "# 중복된 두 개 이상의 행에 대해 'rse'가 최소인 행을 선택\n",
    "min_rse_rows = duplicate_groups.loc[duplicate_groups.groupby(duplicate_columns)['rse'].idxmin()]\n",
    "\n",
    "# df에 중복된 행을 제거하고, 'rse'가 최소인 행만 남김\n",
    "df_unique = df.drop_duplicates(subset=duplicate_columns, keep=False)\n",
    "df_unique = pd.concat([df_unique, min_rse_rows]).sort_values(duplicate_columns)\n",
    "\n",
    "# RSE가 3.0보다 큰 행은 제거\n",
    "df_unique = df_unique[df_unique['rse'] <= 4.0] \n",
    "\n",
    "# 중복 제거 전, 후 행 수 출력하여 비교\n",
    "print(f\"\\n중복 제거 전 행 수: {len(df)}\")\n",
    "print(f\"중복 제거 후 행 수: {len(df_unique)}\")"
   ]
  },
  {
   "cell_type": "code",
   "execution_count": 23,
   "id": "30092db1",
   "metadata": {},
   "outputs": [],
   "source": [
    "# architecture, dataset, encoder, horizon, n_cluster, d_model, beta가 같고, seed가 다른 행들을 그룹화, postfix 열은 아무거나 상관없음\n",
    "# 그룹명은 a=<architecture>_d=<dataset>_e=<encoder>_h=<horizon>_n=<n_cluster>_m=<d_model>_b=<beta>_p=<postfix>로 설정\n",
    "grouped_df = df_unique.groupby(\n",
    "    ['architecture', 'dataset', 'encoder', 'horizon', 'n_cluster', 'd_model', 'beta', 'postfix']\n",
    ")"
   ]
  },
  {
   "cell_type": "code",
   "execution_count": 24,
   "id": "f61e1056",
   "metadata": {},
   "outputs": [
    {
     "name": "stdout",
     "output_type": "stream",
     "text": [
      "\n",
      "총 그룹 수: 1253\n"
     ]
    }
   ],
   "source": [
    "# 그룹 수 출력\n",
    "print(f\"\\n총 그룹 수: {len(grouped_df)}\")"
   ]
  },
  {
   "cell_type": "code",
   "execution_count": 25,
   "id": "77bd3c8d",
   "metadata": {},
   "outputs": [],
   "source": [
    "def print_with_query(grouped_df, query: dict, to_txt=False, show_min=False):\n",
    "    import io\n",
    "    import sys\n",
    "    from datetime import datetime\n",
    "    \n",
    "    # 출력을 캡처하기 위한 StringIO 객체\n",
    "    if to_txt:\n",
    "        output_buffer = io.StringIO()\n",
    "        original_stdout = sys.stdout\n",
    "        sys.stdout = output_buffer\n",
    "    \n",
    "    print(f\"\\nQuery: {query}\")\n",
    "    print(f\"Analysis Date: {datetime.now().strftime('%Y-%m-%d %H:%M:%S')}\")\n",
    "    print(\"=\" * 80)\n",
    "    \n",
    "    # grouped_df에서 query에 해당하는 값을 포함한 그룹을 모두 찾아 출력\n",
    "    matching_groups = 0\n",
    "    \n",
    "    for name, group in grouped_df:\n",
    "        # name은 튜플 형태: (architecture, dataset, encoder, horizon, n_cluster, d_model, beta, postfix)\n",
    "        # 각 쿼리 조건을 확인\n",
    "        match = True\n",
    "        \n",
    "        # 그룹 튜플의 인덱스와 쿼리 키 매핑\n",
    "        group_keys = ['architecture', 'dataset', 'encoder', 'horizon', 'n_cluster', 'd_model', 'beta', 'postfix']\n",
    "        \n",
    "        for key, query_value in query.items():\n",
    "            # 'all'인 경우 필터링에서 제외\n",
    "            if query_value == 'all':\n",
    "                continue\n",
    "                \n",
    "            # 키가 그룹 키에 있는지 확인\n",
    "            if key in group_keys:\n",
    "                key_index = group_keys.index(key)\n",
    "                group_value = name[key_index]\n",
    "                \n",
    "                # 값 비교 (문자열과 숫자 모두 고려)\n",
    "                if str(group_value) != str(query_value):\n",
    "                    match = False\n",
    "                    break\n",
    "        \n",
    "        # 조건에 맞는 그룹만 출력\n",
    "        if match:\n",
    "            matching_groups += 1\n",
    "            print(f\"\\nGroup {matching_groups}: {name}\")\n",
    "            print(group.to_string(index=False))\n",
    "            print(f\"Avg. RSE: {group['rse'].mean():.3f}\")\n",
    "            print(f\"Std. RSE: {group['rse'].std():.3f}\")\n",
    "            # show_min 옵션이 True인 경우, RSE가 최소인 값을 출력\n",
    "            if show_min:\n",
    "                min_rse_row = group.loc[group['rse'].idxmin()]\n",
    "                print(f\"Min RSE: {min_rse_row['rse']:.3f}\")\n",
    "            print('-' * 50)\n",
    "    \n",
    "    print(f\"\\n총 {matching_groups}개의 그룹이 쿼리 조건과 일치합니다.\")\n",
    "    print(\"=\" * 80)\n",
    "    \n",
    "    # 파일로 출력하기\n",
    "    if to_txt:\n",
    "        # stdout 원복\n",
    "        sys.stdout = original_stdout\n",
    "        \n",
    "        # 출력 내용 가져오기\n",
    "        output_content = output_buffer.getvalue()\n",
    "        output_buffer.close()\n",
    "        \n",
    "        # 파일에 저장\n",
    "        with open('analysis_result.txt', 'w', encoding='utf-8') as f:\n",
    "            f.write(output_content)\n",
    "        \n",
    "        print(f\"✅ 분석 결과가 'analysis_result.txt' 파일에 저장되었습니다.\")\n",
    "        print(f\"📊 총 {matching_groups}개의 그룹이 쿼리 조건과 일치합니다.\")\n",
    "    \n",
    "    return matching_groups"
   ]
  },
  {
   "cell_type": "code",
   "execution_count": 38,
   "id": "b2ae8082",
   "metadata": {},
   "outputs": [
    {
     "name": "stdout",
     "output_type": "stream",
     "text": [
      "✅ 분석 결과가 'analysis_result.txt' 파일에 저장되었습니다.\n",
      "📊 총 4개의 그룹이 쿼리 조건과 일치합니다.\n"
     ]
    },
    {
     "data": {
      "text/plain": [
       "4"
      ]
     },
     "execution_count": 38,
     "metadata": {},
     "output_type": "execute_result"
    }
   ],
   "source": [
    "query = {\n",
    "    'architecture': 'gru',\n",
    "    'dataset': 'etth2',\n",
    "    #'encoder': 'delta',\n",
    "    #'horizon': 6,\n",
    "    #'n_cluster': 'unknown',\n",
    "    #'d_model': '128',\n",
    "    #'postfix': 'unknown',  # 예시로 postfix를 추가\n",
    "}\n",
    "\n",
    "# 사용 예시\n",
    "print_with_query(grouped_df, query, to_txt=True, show_min=True)"
   ]
  }
 ],
 "metadata": {
  "kernelspec": {
   "display_name": "SeqSNN",
   "language": "python",
   "name": "python3"
  },
  "language_info": {
   "codemirror_mode": {
    "name": "ipython",
    "version": 3
   },
   "file_extension": ".py",
   "mimetype": "text/x-python",
   "name": "python",
   "nbconvert_exporter": "python",
   "pygments_lexer": "ipython3",
   "version": "3.10.18"
  }
 },
 "nbformat": 4,
 "nbformat_minor": 5
}
